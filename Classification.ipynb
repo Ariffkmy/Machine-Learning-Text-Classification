{
 "cells": [
  {
   "cell_type": "code",
   "execution_count": 13,
   "metadata": {},
   "outputs": [],
   "source": [
    "import pandas as pd\n",
    "\n",
    "from sklearn import model_selection, preprocessing, linear_model, naive_bayes, metrics, svm\n",
    "from sklearn.feature_extraction.text import TfidfVectorizer, CountVectorizer\n",
    "from sklearn import decomposition, ensemble\n",
    "\n",
    "import pandas,  numpy, textblob, string\n",
    "# from keras.preprocessing import text, sequence\n",
    "# from keras import layers, models, optimizers"
   ]
  },
  {
   "cell_type": "code",
   "execution_count": null,
   "metadata": {},
   "outputs": [],
   "source": []
  },
  {
   "cell_type": "code",
   "execution_count": 3,
   "metadata": {},
   "outputs": [],
   "source": [
    "df=pd.read_excel('AI Dataset.xlsx')"
   ]
  },
  {
   "cell_type": "code",
   "execution_count": 4,
   "metadata": {},
   "outputs": [
    {
     "data": {
      "text/plain": [
       "(2309, 2)"
      ]
     },
     "execution_count": 4,
     "metadata": {},
     "output_type": "execute_result"
    }
   ],
   "source": [
    "df.shape"
   ]
  },
  {
   "cell_type": "code",
   "execution_count": 5,
   "metadata": {},
   "outputs": [
    {
     "data": {
      "text/html": [
       "<div>\n",
       "<style scoped>\n",
       "    .dataframe tbody tr th:only-of-type {\n",
       "        vertical-align: middle;\n",
       "    }\n",
       "\n",
       "    .dataframe tbody tr th {\n",
       "        vertical-align: top;\n",
       "    }\n",
       "\n",
       "    .dataframe thead th {\n",
       "        text-align: right;\n",
       "    }\n",
       "</style>\n",
       "<table border=\"1\" class=\"dataframe\">\n",
       "  <thead>\n",
       "    <tr style=\"text-align: right;\">\n",
       "      <th></th>\n",
       "      <th>TAG</th>\n",
       "      <th>COMMENT</th>\n",
       "    </tr>\n",
       "  </thead>\n",
       "  <tbody>\n",
       "    <tr>\n",
       "      <th>0</th>\n",
       "      <td>Positive Project Feedback</td>\n",
       "      <td>I am feeling satisfied with the project</td>\n",
       "    </tr>\n",
       "    <tr>\n",
       "      <th>1</th>\n",
       "      <td>Positive Supervisor Feedback</td>\n",
       "      <td>You make me so happy. It’s like your superpower.</td>\n",
       "    </tr>\n",
       "    <tr>\n",
       "      <th>2</th>\n",
       "      <td>Positive Supervisor Feedback</td>\n",
       "      <td>You make me laugh. You make me smile. You make...</td>\n",
       "    </tr>\n",
       "    <tr>\n",
       "      <th>3</th>\n",
       "      <td>Positive Supervisor Feedback</td>\n",
       "      <td>The supervisor help the students a lot</td>\n",
       "    </tr>\n",
       "    <tr>\n",
       "      <th>4</th>\n",
       "      <td>Positive Supervisor Feedback</td>\n",
       "      <td>Thinking about you gives me a bad case of the ...</td>\n",
       "    </tr>\n",
       "  </tbody>\n",
       "</table>\n",
       "</div>"
      ],
      "text/plain": [
       "                            TAG  \\\n",
       "0     Positive Project Feedback   \n",
       "1  Positive Supervisor Feedback   \n",
       "2  Positive Supervisor Feedback   \n",
       "3  Positive Supervisor Feedback   \n",
       "4  Positive Supervisor Feedback   \n",
       "\n",
       "                                             COMMENT  \n",
       "0            I am feeling satisfied with the project  \n",
       "1   You make me so happy. It’s like your superpower.  \n",
       "2  You make me laugh. You make me smile. You make...  \n",
       "3             The supervisor help the students a lot  \n",
       "4  Thinking about you gives me a bad case of the ...  "
      ]
     },
     "execution_count": 5,
     "metadata": {},
     "output_type": "execute_result"
    }
   ],
   "source": [
    "df.head()"
   ]
  },
  {
   "cell_type": "code",
   "execution_count": 9,
   "metadata": {},
   "outputs": [
    {
     "data": {
      "text/plain": [
       "array(['Positive Project Feedback', 'Positive Supervisor Feedback',\n",
       "       'Positive Group Feedback', 'Negative Group Feedback',\n",
       "       'Negative Supervisor Feedback', 'Negative Project Feedback',\n",
       "       'Budget', 'Positive MPU4 Committee Feedback',\n",
       "       'Negative MPU4 Committee Feedback', 'Collaborator'], dtype=object)"
      ]
     },
     "execution_count": 9,
     "metadata": {},
     "output_type": "execute_result"
    }
   ],
   "source": [
    "df['TAG'].unique()"
   ]
  },
  {
   "cell_type": "code",
   "execution_count": 8,
   "metadata": {},
   "outputs": [
    {
     "data": {
      "text/plain": [
       "10"
      ]
     },
     "execution_count": 8,
     "metadata": {},
     "output_type": "execute_result"
    }
   ],
   "source": [
    "len(df['TAG'].unique())"
   ]
  },
  {
   "cell_type": "code",
   "execution_count": 14,
   "metadata": {
    "collapsed": true
   },
   "outputs": [],
   "source": [
    "train_x, valid_x, train_y, valid_y = model_selection.train_test_split(df['COMMENT'], df['TAG'])"
   ]
  },
  {
   "cell_type": "code",
   "execution_count": null,
   "metadata": {},
   "outputs": [],
   "source": []
  },
  {
   "cell_type": "code",
   "execution_count": 45,
   "metadata": {
    "scrolled": true
   },
   "outputs": [],
   "source": [
    "# create a count vectorizer object \n",
    "count_vect = CountVectorizer(analyzer='word', token_pattern=r'\\w{1,}')\n",
    "count_vect.fit(df['COMMENT'].values.astype('U'))\n",
    "\n",
    "# transform the training and validation data using count vectorizer object\n",
    "xtrain_count =  count_vect.transform(train_x.values.astype('U'))\n",
    "xvalid_count =  count_vect.transform(valid_x.values.astype('U'))\n",
    "\n",
    "\n",
    "# word level tf-idf\n",
    "tfidf_vect = TfidfVectorizer(analyzer='word', token_pattern=r'\\w{1,}', max_features=5000)\n",
    "\n",
    "tfidf_vect.fit(df['COMMENT'].values.astype('U'))\n",
    "xtrain_tfidf =  tfidf_vect.transform(train_x.values.astype('U'))\n",
    "xvalid_tfidf =  tfidf_vect.transform(valid_x.values.astype('U'))\n",
    "\n",
    "\n",
    "# ngram level tf-idf \n",
    "tfidf_vect_ngram = TfidfVectorizer(analyzer='word', token_pattern=r'\\w{1,}', ngram_range=(2,3), max_features=5000)\n",
    "tfidf_vect_ngram.fit(df['COMMENT'].values.astype('U'))\n",
    "xtrain_tfidf_ngram =  tfidf_vect_ngram.transform(train_x.values.astype('U'))\n",
    "xvalid_tfidf_ngram =  tfidf_vect_ngram.transform(valid_x.values.astype('U'))\n",
    "\n",
    "# characters level tf-idf\n",
    "tfidf_vect_ngram_chars = TfidfVectorizer(analyzer='char', token_pattern=r'\\w{1,}', ngram_range=(2,3), max_features=5000)\n",
    "tfidf_vect_ngram_chars.fit(df['COMMENT'].values.astype('U'))\n",
    "xtrain_tfidf_ngram_chars =  tfidf_vect_ngram_chars.transform(train_x.values.astype('U')) \n",
    "xvalid_tfidf_ngram_chars =  tfidf_vect_ngram_chars.transform(valid_x.values.astype('U')) "
   ]
  },
  {
   "cell_type": "code",
   "execution_count": 46,
   "metadata": {
    "collapsed": true
   },
   "outputs": [],
   "source": [
    "def train_model(classifier, feature_vector_train, label, feature_vector_valid, is_neural_net=False):\n",
    "    # fit the training dataset on the classifier\n",
    "    classifier.fit(feature_vector_train, label)\n",
    "    \n",
    "    # predict the labels on validation dataset\n",
    "    predictions = classifier.predict(feature_vector_valid)\n",
    "    \n",
    "    if is_neural_net:\n",
    "        predictions = predictions.argmax(axis=-1)\n",
    "    \n",
    "    return metrics.accuracy_score(predictions, valid_y)"
   ]
  },
  {
   "cell_type": "code",
   "execution_count": 30,
   "metadata": {},
   "outputs": [
    {
     "name": "stdout",
     "output_type": "stream",
     "text": [
      "NB, WordLevel TF-IDF:  0.4359861591695502\n"
     ]
    }
   ],
   "source": [
    "accuracy = train_model(naive_bayes.MultinomialNB(), xtrain_tfidf, train_y, xvalid_tfidf)\n",
    "print(\"NB, WordLevel TF-IDF: \", accuracy)"
   ]
  },
  {
   "cell_type": "code",
   "execution_count": 47,
   "metadata": {},
   "outputs": [
    {
     "name": "stdout",
     "output_type": "stream",
     "text": [
      "NB, Count Vectors:  0.47923875432525953\n",
      "NB, WordLevel TF-IDF:  0.4359861591695502\n",
      "NB, N-Gram Vectors:  0.3944636678200692\n",
      "NB, CharLevel Vectors:  0.4204152249134948\n"
     ]
    }
   ],
   "source": [
    "# Naive Bayes on Count Vectors\n",
    "accuracy = train_model(naive_bayes.MultinomialNB(), xtrain_count, train_y, xvalid_count)\n",
    "print(\"NB, Count Vectors: \", accuracy)\n",
    "\n",
    "# Naive Bayes on Word Level TF IDF Vectors\n",
    "accuracy = train_model(naive_bayes.MultinomialNB(), xtrain_tfidf, train_y, xvalid_tfidf)\n",
    "print( \"NB, WordLevel TF-IDF: \", accuracy)\n",
    "\n",
    "# Naive Bayes on Ngram Level TF IDF Vectors\n",
    "accuracy = train_model(naive_bayes.MultinomialNB(), xtrain_tfidf_ngram, train_y, xvalid_tfidf_ngram)\n",
    "print (\"NB, N-Gram Vectors: \", accuracy)\n",
    "\n",
    "# Naive Bayes on Character Level TF IDF Vectors\n",
    "accuracy = train_model(naive_bayes.MultinomialNB(), xtrain_tfidf_ngram_chars, train_y, xvalid_tfidf_ngram_chars)\n",
    "print(\"NB, CharLevel Vectors: \", accuracy)"
   ]
  },
  {
   "cell_type": "code",
   "execution_count": 48,
   "metadata": {},
   "outputs": [
    {
     "name": "stderr",
     "output_type": "stream",
     "text": [
      "C:\\Users\\mateen.ahmad\\AppData\\Roaming\\Python\\Python36\\site-packages\\sklearn\\linear_model\\logistic.py:432: FutureWarning: Default solver will be changed to 'lbfgs' in 0.22. Specify a solver to silence this warning.\n",
      "  FutureWarning)\n",
      "C:\\Users\\mateen.ahmad\\AppData\\Roaming\\Python\\Python36\\site-packages\\sklearn\\linear_model\\logistic.py:469: FutureWarning: Default multi_class will be changed to 'auto' in 0.22. Specify the multi_class option to silence this warning.\n",
      "  \"this warning.\", FutureWarning)\n"
     ]
    },
    {
     "name": "stdout",
     "output_type": "stream",
     "text": [
      "LR, Count Vectors:  0.4757785467128028\n",
      "LR, WordLevel TF-IDF:  0.47923875432525953\n",
      "LR, N-Gram Vectors:  0.3806228373702422\n",
      "LR, CharLevel Vectors:  0.47750865051903113\n"
     ]
    }
   ],
   "source": [
    "# Linear Classifier on Count Vectors\n",
    "accuracy = train_model(linear_model.LogisticRegression(), xtrain_count, train_y, xvalid_count)\n",
    "print(\"LR, Count Vectors: \", accuracy)\n",
    "\n",
    "# Linear Classifier on Word Level TF IDF Vectors\n",
    "accuracy = train_model(linear_model.LogisticRegression(), xtrain_tfidf, train_y, xvalid_tfidf)\n",
    "print(\"LR, WordLevel TF-IDF: \", accuracy)\n",
    "\n",
    "# Linear Classifier on Ngram Level TF IDF Vectors\n",
    "accuracy = train_model(linear_model.LogisticRegression(), xtrain_tfidf_ngram, train_y, xvalid_tfidf_ngram)\n",
    "print(\"LR, N-Gram Vectors: \", accuracy)\n",
    "\n",
    "# Linear Classifier on Character Level TF IDF Vectors\n",
    "accuracy = train_model(linear_model.LogisticRegression(), xtrain_tfidf_ngram_chars, train_y, xvalid_tfidf_ngram_chars)\n",
    "print(\"LR, CharLevel Vectors: \", accuracy)"
   ]
  },
  {
   "cell_type": "code",
   "execution_count": 63,
   "metadata": {},
   "outputs": [
    {
     "name": "stderr",
     "output_type": "stream",
     "text": [
      "C:\\Users\\mateen.ahmad\\AppData\\Roaming\\Python\\Python36\\site-packages\\sklearn\\linear_model\\logistic.py:432: FutureWarning: Default solver will be changed to 'lbfgs' in 0.22. Specify a solver to silence this warning.\n",
      "  FutureWarning)\n",
      "C:\\Users\\mateen.ahmad\\AppData\\Roaming\\Python\\Python36\\site-packages\\sklearn\\linear_model\\logistic.py:469: FutureWarning: Default multi_class will be changed to 'auto' in 0.22. Specify the multi_class option to silence this warning.\n",
      "  \"this warning.\", FutureWarning)\n"
     ]
    },
    {
     "data": {
      "text/plain": [
       "LogisticRegression(C=1.0, class_weight=None, dual=False, fit_intercept=True,\n",
       "                   intercept_scaling=1, l1_ratio=None, max_iter=100,\n",
       "                   multi_class='warn', n_jobs=None, penalty='l2',\n",
       "                   random_state=None, solver='warn', tol=0.0001, verbose=0,\n",
       "                   warm_start=False)"
      ]
     },
     "execution_count": 63,
     "metadata": {},
     "output_type": "execute_result"
    }
   ],
   "source": [
    "\n",
    "classifier=linear_model.LogisticRegression()\n",
    "    # fit the training dataset on the classifier\n",
    "classifier.fit(xtrain_tfidf, train_y)\n",
    "# predict the labels on validation dataset\n",
    "\n",
    "\n",
    "  \n"
   ]
  },
  {
   "cell_type": "code",
   "execution_count": 64,
   "metadata": {},
   "outputs": [
    {
     "data": {
      "text/plain": [
       "<1x5000 sparse matrix of type '<class 'numpy.float64'>'\n",
       "\twith 18 stored elements in Compressed Sparse Row format>"
      ]
     },
     "execution_count": 64,
     "metadata": {},
     "output_type": "execute_result"
    }
   ],
   "source": [
    "xvalid_tfidf[0]"
   ]
  },
  {
   "cell_type": "code",
   "execution_count": null,
   "metadata": {
    "collapsed": true
   },
   "outputs": [],
   "source": [
    "predictions = classifier.predict(xvalid_tfidf)"
   ]
  },
  {
   "cell_type": "code",
   "execution_count": 62,
   "metadata": {},
   "outputs": [
    {
     "data": {
      "text/plain": [
       "array(['Positive Group Feedback', 'Positive Group Feedback',\n",
       "       'Positive Group Feedback', 'Positive Group Feedback',\n",
       "       'Positive Group Feedback', 'Positive Group Feedback',\n",
       "       'Positive Group Feedback', 'Negative Project Feedback',\n",
       "       'Negative Project Feedback', 'Positive Group Feedback',\n",
       "       'Negative Project Feedback', 'Positive Group Feedback',\n",
       "       'Positive Group Feedback', 'Negative Project Feedback',\n",
       "       'Negative Project Feedback', 'Negative Project Feedback',\n",
       "       'Positive Group Feedback', 'Positive Group Feedback',\n",
       "       'Positive Group Feedback', 'Positive Group Feedback',\n",
       "       'Positive Group Feedback', 'Positive Group Feedback',\n",
       "       'Negative Project Feedback', 'Positive Group Feedback',\n",
       "       'Positive Group Feedback', 'Negative Project Feedback',\n",
       "       'Negative Project Feedback', 'Negative Project Feedback',\n",
       "       'Positive Group Feedback', 'Positive Group Feedback',\n",
       "       'Positive Group Feedback', 'Positive Group Feedback',\n",
       "       'Positive Group Feedback', 'Positive Group Feedback',\n",
       "       'Negative Project Feedback', 'Positive Group Feedback',\n",
       "       'Positive Group Feedback', 'Positive Group Feedback',\n",
       "       'Positive Group Feedback', 'Positive Group Feedback',\n",
       "       'Negative Project Feedback', 'Positive Group Feedback',\n",
       "       'Positive Group Feedback', 'Positive Group Feedback',\n",
       "       'Positive Group Feedback', 'Negative Project Feedback',\n",
       "       'Positive Group Feedback', 'Positive Group Feedback',\n",
       "       'Negative Project Feedback', 'Positive Group Feedback',\n",
       "       'Negative Project Feedback', 'Positive Group Feedback',\n",
       "       'Positive Group Feedback', 'Negative Project Feedback',\n",
       "       'Negative Project Feedback', 'Positive Group Feedback',\n",
       "       'Negative Project Feedback', 'Positive Group Feedback',\n",
       "       'Negative Project Feedback', 'Positive Group Feedback',\n",
       "       'Positive Group Feedback', 'Positive Group Feedback',\n",
       "       'Positive Group Feedback', 'Positive Group Feedback',\n",
       "       'Negative Group Feedback', 'Negative Project Feedback',\n",
       "       'Positive Group Feedback', 'Positive Group Feedback',\n",
       "       'Positive Group Feedback', 'Positive Group Feedback',\n",
       "       'Positive Group Feedback', 'Positive Group Feedback',\n",
       "       'Positive Group Feedback', 'Negative Project Feedback',\n",
       "       'Positive Group Feedback', 'Positive Group Feedback',\n",
       "       'Positive Group Feedback', 'Positive Group Feedback',\n",
       "       'Positive Group Feedback', 'Negative Project Feedback',\n",
       "       'Negative Project Feedback', 'Positive Group Feedback',\n",
       "       'Positive Group Feedback', 'Positive Group Feedback',\n",
       "       'Positive Group Feedback', 'Negative Project Feedback',\n",
       "       'Positive Group Feedback', 'Positive Group Feedback',\n",
       "       'Positive Group Feedback', 'Positive Group Feedback',\n",
       "       'Negative Project Feedback', 'Negative Project Feedback',\n",
       "       'Negative Project Feedback', 'Negative Project Feedback',\n",
       "       'Negative Project Feedback', 'Positive Group Feedback',\n",
       "       'Positive Group Feedback', 'Positive Group Feedback',\n",
       "       'Positive Group Feedback', 'Negative Project Feedback',\n",
       "       'Positive Group Feedback', 'Positive Group Feedback',\n",
       "       'Positive Group Feedback', 'Positive Group Feedback',\n",
       "       'Positive Group Feedback', 'Positive Group Feedback',\n",
       "       'Positive Group Feedback', 'Positive Group Feedback',\n",
       "       'Positive Group Feedback', 'Negative Group Feedback',\n",
       "       'Positive Group Feedback', 'Positive Group Feedback',\n",
       "       'Negative Group Feedback', 'Negative Group Feedback',\n",
       "       'Negative Project Feedback', 'Positive Group Feedback',\n",
       "       'Positive Group Feedback', 'Positive Group Feedback',\n",
       "       'Positive Group Feedback', 'Positive Group Feedback',\n",
       "       'Negative Group Feedback', 'Positive Group Feedback',\n",
       "       'Positive Group Feedback', 'Positive Group Feedback',\n",
       "       'Positive Group Feedback', 'Negative Project Feedback',\n",
       "       'Positive Group Feedback', 'Positive Group Feedback',\n",
       "       'Negative Project Feedback', 'Positive Group Feedback',\n",
       "       'Positive Group Feedback', 'Positive Group Feedback',\n",
       "       'Negative Group Feedback', 'Negative Project Feedback',\n",
       "       'Positive Group Feedback', 'Negative Project Feedback',\n",
       "       'Negative Project Feedback', 'Positive Group Feedback',\n",
       "       'Positive Group Feedback', 'Positive Group Feedback',\n",
       "       'Positive Group Feedback', 'Positive Group Feedback',\n",
       "       'Negative Project Feedback', 'Positive Group Feedback',\n",
       "       'Positive Group Feedback', 'Positive Group Feedback',\n",
       "       'Positive Group Feedback', 'Negative Project Feedback',\n",
       "       'Positive Group Feedback', 'Positive Group Feedback',\n",
       "       'Negative Group Feedback', 'Negative Group Feedback',\n",
       "       'Positive Supervisor Feedback', 'Positive Group Feedback',\n",
       "       'Positive Group Feedback', 'Negative Project Feedback',\n",
       "       'Positive Group Feedback', 'Positive Group Feedback',\n",
       "       'Positive Group Feedback', 'Positive Group Feedback',\n",
       "       'Positive Group Feedback', 'Negative Project Feedback',\n",
       "       'Negative Project Feedback', 'Negative Project Feedback',\n",
       "       'Positive Group Feedback', 'Negative Project Feedback',\n",
       "       'Collaborator', 'Negative Group Feedback',\n",
       "       'Positive Group Feedback', 'Positive Group Feedback',\n",
       "       'Positive Group Feedback', 'Negative Project Feedback',\n",
       "       'Positive Group Feedback', 'Positive Group Feedback',\n",
       "       'Negative Group Feedback', 'Positive Group Feedback',\n",
       "       'Negative Project Feedback', 'Negative Project Feedback',\n",
       "       'Positive Group Feedback', 'Negative Project Feedback',\n",
       "       'Positive Group Feedback', 'Positive Group Feedback',\n",
       "       'Positive Group Feedback', 'Positive Group Feedback',\n",
       "       'Positive Group Feedback', 'Negative Group Feedback',\n",
       "       'Positive Group Feedback', 'Positive Group Feedback',\n",
       "       'Positive Group Feedback', 'Negative Project Feedback',\n",
       "       'Positive Group Feedback', 'Collaborator',\n",
       "       'Positive Group Feedback', 'Positive Group Feedback',\n",
       "       'Positive Group Feedback', 'Positive Group Feedback',\n",
       "       'Negative Project Feedback', 'Positive Group Feedback',\n",
       "       'Collaborator', 'Positive Group Feedback',\n",
       "       'Negative Project Feedback', 'Negative Project Feedback',\n",
       "       'Positive Group Feedback', 'Positive Group Feedback',\n",
       "       'Negative Project Feedback', 'Negative Group Feedback',\n",
       "       'Positive Group Feedback', 'Positive Group Feedback',\n",
       "       'Positive Group Feedback', 'Positive Group Feedback',\n",
       "       'Negative Group Feedback', 'Positive Group Feedback',\n",
       "       'Positive Group Feedback', 'Positive Group Feedback',\n",
       "       'Positive Group Feedback', 'Negative Project Feedback',\n",
       "       'Positive Group Feedback', 'Negative Project Feedback',\n",
       "       'Negative Group Feedback', 'Negative Project Feedback',\n",
       "       'Positive Group Feedback', 'Negative Project Feedback',\n",
       "       'Negative Project Feedback', 'Positive Group Feedback',\n",
       "       'Positive Group Feedback', 'Positive Group Feedback',\n",
       "       'Positive Group Feedback', 'Positive Group Feedback',\n",
       "       'Positive Group Feedback', 'Positive Group Feedback',\n",
       "       'Positive Group Feedback', 'Negative Project Feedback',\n",
       "       'Negative Group Feedback', 'Negative Group Feedback',\n",
       "       'Negative Project Feedback', 'Positive Group Feedback',\n",
       "       'Negative Project Feedback', 'Positive Group Feedback',\n",
       "       'Positive Group Feedback', 'Positive Group Feedback',\n",
       "       'Positive Group Feedback', 'Negative Project Feedback',\n",
       "       'Positive Group Feedback', 'Positive Group Feedback',\n",
       "       'Positive Group Feedback', 'Negative Group Feedback',\n",
       "       'Positive Group Feedback', 'Positive Group Feedback',\n",
       "       'Negative Project Feedback', 'Positive Group Feedback',\n",
       "       'Negative Project Feedback', 'Negative Project Feedback',\n",
       "       'Positive Group Feedback', 'Positive Group Feedback',\n",
       "       'Negative Group Feedback', 'Positive Group Feedback',\n",
       "       'Positive Group Feedback', 'Negative Project Feedback',\n",
       "       'Positive Group Feedback', 'Positive Group Feedback',\n",
       "       'Positive Group Feedback', 'Positive Group Feedback',\n",
       "       'Negative Project Feedback', 'Positive Group Feedback',\n",
       "       'Positive Group Feedback', 'Positive Group Feedback',\n",
       "       'Positive Group Feedback', 'Negative Project Feedback',\n",
       "       'Negative Project Feedback', 'Positive Group Feedback',\n",
       "       'Positive Group Feedback', 'Positive Group Feedback',\n",
       "       'Negative Group Feedback', 'Negative Project Feedback',\n",
       "       'Negative Group Feedback', 'Negative Project Feedback',\n",
       "       'Negative Project Feedback', 'Negative Project Feedback',\n",
       "       'Positive Group Feedback', 'Negative Project Feedback',\n",
       "       'Positive Group Feedback', 'Negative Project Feedback',\n",
       "       'Positive Group Feedback', 'Positive Group Feedback',\n",
       "       'Positive Group Feedback', 'Positive Group Feedback',\n",
       "       'Positive Group Feedback', 'Positive Group Feedback',\n",
       "       'Positive Group Feedback', 'Positive Group Feedback',\n",
       "       'Positive Group Feedback', 'Positive Group Feedback',\n",
       "       'Positive Group Feedback', 'Negative Project Feedback',\n",
       "       'Negative Project Feedback', 'Negative Project Feedback',\n",
       "       'Positive Group Feedback', 'Positive Group Feedback',\n",
       "       'Positive Group Feedback', 'Positive Group Feedback',\n",
       "       'Positive Group Feedback', 'Negative Group Feedback',\n",
       "       'Positive Group Feedback', 'Positive Group Feedback',\n",
       "       'Positive Group Feedback', 'Positive Group Feedback',\n",
       "       'Positive Project Feedback', 'Negative Project Feedback',\n",
       "       'Positive Group Feedback', 'Positive Group Feedback',\n",
       "       'Negative Project Feedback', 'Positive Group Feedback',\n",
       "       'Positive Group Feedback', 'Negative Project Feedback',\n",
       "       'Negative Project Feedback', 'Positive Group Feedback',\n",
       "       'Negative Project Feedback', 'Negative Group Feedback',\n",
       "       'Negative Project Feedback', 'Positive Group Feedback',\n",
       "       'Positive Group Feedback', 'Positive Group Feedback',\n",
       "       'Negative Project Feedback', 'Positive Group Feedback',\n",
       "       'Negative Project Feedback', 'Positive Group Feedback',\n",
       "       'Negative Project Feedback', 'Positive Group Feedback',\n",
       "       'Negative Project Feedback', 'Positive Group Feedback',\n",
       "       'Negative Project Feedback', 'Positive Group Feedback',\n",
       "       'Negative Project Feedback', 'Positive Group Feedback',\n",
       "       'Positive Group Feedback', 'Positive Group Feedback',\n",
       "       'Positive Group Feedback', 'Negative Project Feedback',\n",
       "       'Positive Group Feedback', 'Positive Group Feedback',\n",
       "       'Positive Group Feedback', 'Negative Group Feedback',\n",
       "       'Negative Project Feedback', 'Positive Group Feedback',\n",
       "       'Positive Group Feedback', 'Positive Group Feedback',\n",
       "       'Positive Group Feedback', 'Positive Group Feedback',\n",
       "       'Positive Group Feedback', 'Negative Project Feedback',\n",
       "       'Positive Group Feedback', 'Negative Group Feedback',\n",
       "       'Positive Group Feedback', 'Positive Group Feedback',\n",
       "       'Positive Group Feedback', 'Positive Group Feedback',\n",
       "       'Positive Group Feedback', 'Negative Project Feedback',\n",
       "       'Positive Group Feedback', 'Positive Group Feedback',\n",
       "       'Negative Group Feedback', 'Negative Project Feedback',\n",
       "       'Negative Project Feedback', 'Positive Group Feedback',\n",
       "       'Positive Group Feedback', 'Positive Group Feedback',\n",
       "       'Negative Project Feedback', 'Positive Group Feedback',\n",
       "       'Positive Group Feedback', 'Positive Group Feedback',\n",
       "       'Positive Group Feedback', 'Positive Group Feedback',\n",
       "       'Positive Group Feedback', 'Positive Group Feedback',\n",
       "       'Positive Group Feedback', 'Positive Group Feedback',\n",
       "       'Negative Project Feedback', 'Collaborator',\n",
       "       'Positive Group Feedback', 'Positive Group Feedback',\n",
       "       'Positive Group Feedback', 'Positive Group Feedback',\n",
       "       'Positive Group Feedback', 'Negative Group Feedback',\n",
       "       'Positive Group Feedback', 'Positive Group Feedback',\n",
       "       'Positive Group Feedback', 'Positive Group Feedback',\n",
       "       'Positive Group Feedback', 'Positive Group Feedback',\n",
       "       'Positive Group Feedback', 'Negative Project Feedback',\n",
       "       'Negative Project Feedback', 'Negative Project Feedback',\n",
       "       'Positive Group Feedback', 'Positive Group Feedback',\n",
       "       'Positive Group Feedback', 'Positive Group Feedback',\n",
       "       'Positive Group Feedback', 'Positive Group Feedback',\n",
       "       'Negative Project Feedback', 'Positive Group Feedback',\n",
       "       'Negative Project Feedback', 'Positive Group Feedback',\n",
       "       'Positive Group Feedback', 'Positive Group Feedback',\n",
       "       'Negative Project Feedback', 'Negative Project Feedback',\n",
       "       'Positive Group Feedback', 'Positive Group Feedback',\n",
       "       'Positive Group Feedback', 'Negative Project Feedback',\n",
       "       'Negative Project Feedback', 'Negative Project Feedback',\n",
       "       'Negative Project Feedback', 'Negative Project Feedback',\n",
       "       'Positive Group Feedback', 'Negative Project Feedback',\n",
       "       'Positive Group Feedback', 'Positive Group Feedback',\n",
       "       'Positive Group Feedback', 'Positive Group Feedback',\n",
       "       'Positive Group Feedback', 'Positive Group Feedback',\n",
       "       'Positive Group Feedback', 'Negative Group Feedback',\n",
       "       'Positive Group Feedback', 'Positive Group Feedback',\n",
       "       'Negative Project Feedback', 'Collaborator',\n",
       "       'Positive Group Feedback', 'Positive Group Feedback',\n",
       "       'Positive Group Feedback', 'Positive Group Feedback',\n",
       "       'Negative Project Feedback', 'Negative Project Feedback',\n",
       "       'Negative Project Feedback', 'Positive Group Feedback',\n",
       "       'Positive Group Feedback', 'Negative Group Feedback',\n",
       "       'Negative Project Feedback', 'Negative Project Feedback',\n",
       "       'Negative Project Feedback', 'Negative Project Feedback',\n",
       "       'Negative Project Feedback', 'Negative Project Feedback',\n",
       "       'Collaborator', 'Negative Project Feedback',\n",
       "       'Positive Group Feedback', 'Negative Group Feedback',\n",
       "       'Negative Project Feedback', 'Negative Project Feedback',\n",
       "       'Positive Group Feedback', 'Negative Project Feedback',\n",
       "       'Positive Group Feedback', 'Positive Group Feedback',\n",
       "       'Negative Project Feedback', 'Positive Group Feedback',\n",
       "       'Positive Group Feedback', 'Negative Project Feedback',\n",
       "       'Negative Project Feedback', 'Positive Group Feedback',\n",
       "       'Positive Group Feedback', 'Negative Project Feedback',\n",
       "       'Negative Project Feedback', 'Positive Group Feedback',\n",
       "       'Positive Group Feedback', 'Positive Group Feedback',\n",
       "       'Negative Project Feedback', 'Negative Project Feedback',\n",
       "       'Positive Group Feedback', 'Negative Project Feedback',\n",
       "       'Negative Project Feedback', 'Positive Group Feedback',\n",
       "       'Positive Group Feedback', 'Positive Group Feedback',\n",
       "       'Positive Group Feedback', 'Positive Group Feedback',\n",
       "       'Positive Group Feedback', 'Positive Group Feedback',\n",
       "       'Positive Group Feedback', 'Positive Group Feedback',\n",
       "       'Positive Group Feedback', 'Negative Project Feedback',\n",
       "       'Positive Group Feedback', 'Positive Group Feedback',\n",
       "       'Positive Group Feedback', 'Negative Project Feedback',\n",
       "       'Positive Group Feedback', 'Positive Group Feedback',\n",
       "       'Positive Group Feedback', 'Positive Group Feedback',\n",
       "       'Negative Group Feedback', 'Positive Group Feedback',\n",
       "       'Negative Group Feedback', 'Positive Group Feedback',\n",
       "       'Negative Project Feedback', 'Positive Group Feedback',\n",
       "       'Negative Project Feedback', 'Negative Project Feedback',\n",
       "       'Positive Group Feedback', 'Negative Project Feedback',\n",
       "       'Negative Group Feedback', 'Collaborator',\n",
       "       'Positive Group Feedback', 'Positive Group Feedback',\n",
       "       'Positive Group Feedback', 'Positive Group Feedback',\n",
       "       'Positive Group Feedback', 'Positive Group Feedback',\n",
       "       'Positive Group Feedback', 'Positive Group Feedback',\n",
       "       'Positive Group Feedback', 'Positive Group Feedback',\n",
       "       'Positive Group Feedback', 'Positive Group Feedback',\n",
       "       'Positive Group Feedback', 'Negative Project Feedback',\n",
       "       'Positive Group Feedback', 'Negative Project Feedback',\n",
       "       'Negative Project Feedback', 'Negative Project Feedback',\n",
       "       'Positive Group Feedback', 'Positive Group Feedback',\n",
       "       'Positive Group Feedback', 'Positive Group Feedback',\n",
       "       'Negative Project Feedback', 'Negative Project Feedback',\n",
       "       'Positive Group Feedback', 'Negative Project Feedback',\n",
       "       'Negative Project Feedback', 'Negative Project Feedback',\n",
       "       'Positive Group Feedback', 'Negative Project Feedback',\n",
       "       'Negative Project Feedback', 'Positive Group Feedback',\n",
       "       'Negative Group Feedback', 'Positive Group Feedback',\n",
       "       'Positive Group Feedback', 'Positive Group Feedback',\n",
       "       'Positive Group Feedback', 'Positive Group Feedback',\n",
       "       'Negative Group Feedback', 'Negative Project Feedback',\n",
       "       'Negative Project Feedback', 'Collaborator',\n",
       "       'Negative Project Feedback', 'Negative Project Feedback',\n",
       "       'Positive Group Feedback', 'Positive Group Feedback',\n",
       "       'Negative Project Feedback', 'Negative Project Feedback',\n",
       "       'Positive Group Feedback', 'Positive Group Feedback',\n",
       "       'Negative Project Feedback', 'Positive Group Feedback',\n",
       "       'Positive Group Feedback', 'Positive Group Feedback',\n",
       "       'Positive Group Feedback', 'Positive Group Feedback',\n",
       "       'Positive Group Feedback', 'Negative Project Feedback',\n",
       "       'Negative Project Feedback', 'Positive Group Feedback',\n",
       "       'Positive Group Feedback', 'Positive Group Feedback',\n",
       "       'Positive Group Feedback', 'Positive Group Feedback',\n",
       "       'Positive Group Feedback', 'Positive Group Feedback',\n",
       "       'Negative Project Feedback', 'Positive Group Feedback',\n",
       "       'Positive Group Feedback', 'Negative Project Feedback',\n",
       "       'Positive Group Feedback', 'Positive Group Feedback',\n",
       "       'Negative Project Feedback', 'Negative Group Feedback'],\n",
       "      dtype=object)"
      ]
     },
     "execution_count": 62,
     "metadata": {},
     "output_type": "execute_result"
    }
   ],
   "source": [
    "predictions"
   ]
  },
  {
   "cell_type": "code",
   "execution_count": 50,
   "metadata": {
    "scrolled": true
   },
   "outputs": [
    {
     "data": {
      "text/plain": [
       "864            Negative Project Feedback\n",
       "279              Negative Group Feedback\n",
       "229              Negative Group Feedback\n",
       "1177        Negative Supervisor Feedback\n",
       "1826             Positive Group Feedback\n",
       "190                         Collaborator\n",
       "2100           Positive Project Feedback\n",
       "1397             Positive Group Feedback\n",
       "845            Negative Project Feedback\n",
       "1064           Negative Project Feedback\n",
       "546              Negative Group Feedback\n",
       "1339             Positive Group Feedback\n",
       "1207             Positive Group Feedback\n",
       "1123           Negative Project Feedback\n",
       "1078           Negative Project Feedback\n",
       "549              Negative Group Feedback\n",
       "1928             Positive Group Feedback\n",
       "1353             Positive Group Feedback\n",
       "1148           Negative Project Feedback\n",
       "2273        Positive Supervisor Feedback\n",
       "2074           Positive Project Feedback\n",
       "1008           Negative Project Feedback\n",
       "808            Negative Project Feedback\n",
       "1251             Positive Group Feedback\n",
       "842            Negative Project Feedback\n",
       "1524             Positive Group Feedback\n",
       "794            Negative Project Feedback\n",
       "325              Negative Group Feedback\n",
       "95      Positive MPU4 Committee Feedback\n",
       "1724             Positive Group Feedback\n",
       "                      ...               \n",
       "1986           Positive Project Feedback\n",
       "1060           Negative Project Feedback\n",
       "2016           Positive Project Feedback\n",
       "1083           Negative Project Feedback\n",
       "492              Negative Group Feedback\n",
       "791            Negative Project Feedback\n",
       "725            Negative Project Feedback\n",
       "880            Negative Project Feedback\n",
       "578              Negative Group Feedback\n",
       "672            Negative Project Feedback\n",
       "1888             Positive Group Feedback\n",
       "1454             Positive Group Feedback\n",
       "1166           Negative Project Feedback\n",
       "568              Negative Group Feedback\n",
       "1557             Positive Group Feedback\n",
       "833            Negative Project Feedback\n",
       "2301        Positive Supervisor Feedback\n",
       "125                         Collaborator\n",
       "414              Negative Group Feedback\n",
       "2297        Positive Supervisor Feedback\n",
       "1865             Positive Group Feedback\n",
       "1241             Positive Group Feedback\n",
       "1959             Positive Group Feedback\n",
       "1736             Positive Group Feedback\n",
       "1773             Positive Group Feedback\n",
       "1739             Positive Group Feedback\n",
       "904            Negative Project Feedback\n",
       "538              Negative Group Feedback\n",
       "1313             Positive Group Feedback\n",
       "2260        Positive Supervisor Feedback\n",
       "Name: TAG, Length: 1731, dtype: object"
      ]
     },
     "execution_count": 50,
     "metadata": {},
     "output_type": "execute_result"
    }
   ],
   "source": [
    "classifier.predict(feature_vector_valid)"
   ]
  },
  {
   "cell_type": "code",
   "execution_count": null,
   "metadata": {
    "collapsed": true
   },
   "outputs": [],
   "source": []
  },
  {
   "cell_type": "code",
   "execution_count": null,
   "metadata": {
    "collapsed": true
   },
   "outputs": [],
   "source": []
  },
  {
   "cell_type": "code",
   "execution_count": null,
   "metadata": {
    "collapsed": true
   },
   "outputs": [],
   "source": []
  },
  {
   "cell_type": "code",
   "execution_count": 32,
   "metadata": {},
   "outputs": [
    {
     "name": "stderr",
     "output_type": "stream",
     "text": [
      "C:\\Users\\mateen.ahmad\\AppData\\Roaming\\Python\\Python36\\site-packages\\sklearn\\linear_model\\logistic.py:432: FutureWarning: Default solver will be changed to 'lbfgs' in 0.22. Specify a solver to silence this warning.\n",
      "  FutureWarning)\n",
      "C:\\Users\\mateen.ahmad\\AppData\\Roaming\\Python\\Python36\\site-packages\\sklearn\\linear_model\\logistic.py:469: FutureWarning: Default multi_class will be changed to 'auto' in 0.22. Specify the multi_class option to silence this warning.\n",
      "  \"this warning.\", FutureWarning)\n"
     ]
    },
    {
     "name": "stdout",
     "output_type": "stream",
     "text": [
      "LR, WordLevel TF-IDF:  0.47923875432525953\n"
     ]
    }
   ],
   "source": [
    "accuracy = train_model(linear_model.LogisticRegression(), xtrain_tfidf, train_y, xvalid_tfidf)\n",
    "print (\"LR, WordLevel TF-IDF: \", accuracy)"
   ]
  },
  {
   "cell_type": "code",
   "execution_count": 35,
   "metadata": {},
   "outputs": [
    {
     "name": "stderr",
     "output_type": "stream",
     "text": [
      "C:\\Users\\mateen.ahmad\\AppData\\Roaming\\Python\\Python36\\site-packages\\sklearn\\svm\\base.py:193: FutureWarning: The default value of gamma will change from 'auto' to 'scale' in version 0.22 to account better for unscaled features. Set gamma explicitly to 'auto' or 'scale' to avoid this warning.\n",
      "  \"avoid this warning.\", FutureWarning)\n"
     ]
    },
    {
     "name": "stdout",
     "output_type": "stream",
     "text": [
      "SVM, wordlevel Vectors:  0.3477508650519031\n"
     ]
    }
   ],
   "source": [
    "accuracy = train_model(svm.SVC(), xtrain_tfidf, train_y, xvalid_tfidf)\n",
    "print(\"SVM, wordlevel Vectors: \", accuracy)"
   ]
  },
  {
   "cell_type": "code",
   "execution_count": 37,
   "metadata": {},
   "outputs": [
    {
     "name": "stderr",
     "output_type": "stream",
     "text": [
      "C:\\Users\\mateen.ahmad\\AppData\\Roaming\\Python\\Python36\\site-packages\\sklearn\\ensemble\\forest.py:245: FutureWarning: The default value of n_estimators will change from 10 in version 0.20 to 100 in 0.22.\n",
      "  \"10 in version 0.20 to 100 in 0.22.\", FutureWarning)\n"
     ]
    },
    {
     "name": "stdout",
     "output_type": "stream",
     "text": [
      "RF, WordLevel TF-IDF:  0.4290657439446367\n"
     ]
    }
   ],
   "source": [
    "accuracy = train_model(ensemble.RandomForestClassifier(), xtrain_tfidf, train_y, xvalid_tfidf)\n",
    "print(\"RF, WordLevel TF-IDF: \", accuracy)"
   ]
  },
  {
   "cell_type": "code",
   "execution_count": 39,
   "metadata": {
    "collapsed": true
   },
   "outputs": [],
   "source": [
    "import xgboost"
   ]
  },
  {
   "cell_type": "code",
   "execution_count": 40,
   "metadata": {},
   "outputs": [
    {
     "name": "stderr",
     "output_type": "stream",
     "text": [
      "C:\\ProgramData\\Anaconda3\\lib\\site-packages\\xgboost\\sklearn.py:888: UserWarning: The use of label encoder in XGBClassifier is deprecated and will be removed in a future release. To remove this warning, do the following: 1) Pass option use_label_encoder=False when constructing XGBClassifier object; and 2) Encode your labels (y) as integers starting with 0, i.e. 0, 1, 2, ..., [num_class - 1].\n",
      "  warnings.warn(label_encoder_deprecation_msg, UserWarning)\n"
     ]
    },
    {
     "name": "stdout",
     "output_type": "stream",
     "text": [
      "[18:58:13] WARNING: C:/Users/Administrator/workspace/xgboost-win64_release_1.3.0/src/learner.cc:1061: Starting in XGBoost 1.3.0, the default evaluation metric used with the objective 'multi:softprob' was changed from 'merror' to 'mlogloss'. Explicitly set eval_metric if you'd like to restore the old behavior.\n",
      "Xgb, WordLevel TF-IDF:  0.4515570934256055\n"
     ]
    }
   ],
   "source": [
    "accuracy = train_model(xgboost.XGBClassifier(), xtrain_tfidf.tocsc(), train_y, xvalid_tfidf.tocsc())\n",
    "print(\"Xgb, WordLevel TF-IDF: \", accuracy)"
   ]
  },
  {
   "cell_type": "code",
   "execution_count": null,
   "metadata": {
    "collapsed": true
   },
   "outputs": [],
   "source": []
  }
 ],
 "metadata": {
  "kernelspec": {
   "display_name": "Python 3",
   "language": "python",
   "name": "python3"
  },
  "language_info": {
   "codemirror_mode": {
    "name": "ipython",
    "version": 3
   },
   "file_extension": ".py",
   "mimetype": "text/x-python",
   "name": "python",
   "nbconvert_exporter": "python",
   "pygments_lexer": "ipython3",
   "version": "3.6.1"
  }
 },
 "nbformat": 4,
 "nbformat_minor": 2
}
